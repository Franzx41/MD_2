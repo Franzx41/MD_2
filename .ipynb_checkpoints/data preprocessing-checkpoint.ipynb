{
 "cells": [
  {
   "cell_type": "code",
   "execution_count": 1,
   "metadata": {},
   "outputs": [],
   "source": [
    "import pandas as pd\n",
    "import numpy as np\n",
    "import seaborn as sns\n",
    "import matplotlib.pyplot as plt"
   ]
  },
  {
   "cell_type": "markdown",
   "metadata": {},
   "source": [
    "- clean_data: mesmo que o feito antes, mas com normalização e padronização de dados\n",
    "- clean_data_grouped: mesmo que clean_data, mas com valores com pouca frequencia agrupados e vou usar um metodo de redução de dimensionalidade\n",
    "\n",
    "- clean_data_gender\n",
    "- clean_data_alignment\n",
    "- clean_data_publisher\n",
    "- clean_data_grouped_gender\n",
    "- clean_data__grouped_alignment\n",
    "- clean_data_grouped_publisher"
   ]
  },
  {
   "cell_type": "code",
   "execution_count": 2,
   "metadata": {},
   "outputs": [
    {
     "data": {
      "text/html": [
       "<div>\n",
       "<style scoped>\n",
       "    .dataframe tbody tr th:only-of-type {\n",
       "        vertical-align: middle;\n",
       "    }\n",
       "\n",
       "    .dataframe tbody tr th {\n",
       "        vertical-align: top;\n",
       "    }\n",
       "\n",
       "    .dataframe thead th {\n",
       "        text-align: right;\n",
       "    }\n",
       "</style>\n",
       "<table border=\"1\" class=\"dataframe\">\n",
       "  <thead>\n",
       "    <tr style=\"text-align: right;\">\n",
       "      <th></th>\n",
       "      <th>hero_names</th>\n",
       "      <th>Gender</th>\n",
       "      <th>Eye color</th>\n",
       "      <th>Race</th>\n",
       "      <th>Hair color</th>\n",
       "      <th>Height</th>\n",
       "      <th>Publisher</th>\n",
       "      <th>Skin color</th>\n",
       "      <th>Alignment</th>\n",
       "      <th>Weight</th>\n",
       "      <th>...</th>\n",
       "      <th>Web Creation</th>\n",
       "      <th>Reality Warping</th>\n",
       "      <th>Odin Force</th>\n",
       "      <th>Symbiote Costume</th>\n",
       "      <th>Speed Force</th>\n",
       "      <th>Phoenix Force</th>\n",
       "      <th>Molecular Dissipation</th>\n",
       "      <th>Vision - Cryo</th>\n",
       "      <th>Omnipresent</th>\n",
       "      <th>Omniscient</th>\n",
       "    </tr>\n",
       "  </thead>\n",
       "  <tbody>\n",
       "    <tr>\n",
       "      <th>0</th>\n",
       "      <td>A-Bomb</td>\n",
       "      <td>Male</td>\n",
       "      <td>yellow</td>\n",
       "      <td>Human</td>\n",
       "      <td>No Hair</td>\n",
       "      <td>203.0</td>\n",
       "      <td>Marvel Comics</td>\n",
       "      <td>NaN</td>\n",
       "      <td>good</td>\n",
       "      <td>441.0</td>\n",
       "      <td>...</td>\n",
       "      <td>False</td>\n",
       "      <td>False</td>\n",
       "      <td>False</td>\n",
       "      <td>False</td>\n",
       "      <td>False</td>\n",
       "      <td>False</td>\n",
       "      <td>False</td>\n",
       "      <td>False</td>\n",
       "      <td>False</td>\n",
       "      <td>False</td>\n",
       "    </tr>\n",
       "    <tr>\n",
       "      <th>1</th>\n",
       "      <td>Abe Sapien</td>\n",
       "      <td>Male</td>\n",
       "      <td>blue</td>\n",
       "      <td>Icthyo Sapien</td>\n",
       "      <td>No Hair</td>\n",
       "      <td>191.0</td>\n",
       "      <td>Dark Horse Comics</td>\n",
       "      <td>blue</td>\n",
       "      <td>good</td>\n",
       "      <td>65.0</td>\n",
       "      <td>...</td>\n",
       "      <td>False</td>\n",
       "      <td>False</td>\n",
       "      <td>False</td>\n",
       "      <td>False</td>\n",
       "      <td>False</td>\n",
       "      <td>False</td>\n",
       "      <td>False</td>\n",
       "      <td>False</td>\n",
       "      <td>False</td>\n",
       "      <td>False</td>\n",
       "    </tr>\n",
       "    <tr>\n",
       "      <th>2</th>\n",
       "      <td>Abin Sur</td>\n",
       "      <td>Male</td>\n",
       "      <td>blue</td>\n",
       "      <td>Ungaran</td>\n",
       "      <td>No Hair</td>\n",
       "      <td>185.0</td>\n",
       "      <td>DC Comics</td>\n",
       "      <td>red</td>\n",
       "      <td>good</td>\n",
       "      <td>90.0</td>\n",
       "      <td>...</td>\n",
       "      <td>False</td>\n",
       "      <td>False</td>\n",
       "      <td>False</td>\n",
       "      <td>False</td>\n",
       "      <td>False</td>\n",
       "      <td>False</td>\n",
       "      <td>False</td>\n",
       "      <td>False</td>\n",
       "      <td>False</td>\n",
       "      <td>False</td>\n",
       "    </tr>\n",
       "    <tr>\n",
       "      <th>3</th>\n",
       "      <td>Abomination</td>\n",
       "      <td>Male</td>\n",
       "      <td>green</td>\n",
       "      <td>Human / Radiation</td>\n",
       "      <td>No Hair</td>\n",
       "      <td>203.0</td>\n",
       "      <td>Marvel Comics</td>\n",
       "      <td>NaN</td>\n",
       "      <td>bad</td>\n",
       "      <td>441.0</td>\n",
       "      <td>...</td>\n",
       "      <td>False</td>\n",
       "      <td>False</td>\n",
       "      <td>False</td>\n",
       "      <td>False</td>\n",
       "      <td>False</td>\n",
       "      <td>False</td>\n",
       "      <td>False</td>\n",
       "      <td>False</td>\n",
       "      <td>False</td>\n",
       "      <td>False</td>\n",
       "    </tr>\n",
       "    <tr>\n",
       "      <th>4</th>\n",
       "      <td>Abraxas</td>\n",
       "      <td>Male</td>\n",
       "      <td>blue</td>\n",
       "      <td>Cosmic Entity</td>\n",
       "      <td>Black</td>\n",
       "      <td>NaN</td>\n",
       "      <td>Marvel Comics</td>\n",
       "      <td>NaN</td>\n",
       "      <td>bad</td>\n",
       "      <td>NaN</td>\n",
       "      <td>...</td>\n",
       "      <td>False</td>\n",
       "      <td>False</td>\n",
       "      <td>False</td>\n",
       "      <td>False</td>\n",
       "      <td>False</td>\n",
       "      <td>False</td>\n",
       "      <td>False</td>\n",
       "      <td>False</td>\n",
       "      <td>False</td>\n",
       "      <td>False</td>\n",
       "    </tr>\n",
       "  </tbody>\n",
       "</table>\n",
       "<p>5 rows × 177 columns</p>\n",
       "</div>"
      ],
      "text/plain": [
       "    hero_names Gender Eye color               Race Hair color  Height  \\\n",
       "0       A-Bomb   Male    yellow              Human    No Hair   203.0   \n",
       "1   Abe Sapien   Male      blue      Icthyo Sapien    No Hair   191.0   \n",
       "2     Abin Sur   Male      blue            Ungaran    No Hair   185.0   \n",
       "3  Abomination   Male     green  Human / Radiation    No Hair   203.0   \n",
       "4      Abraxas   Male      blue      Cosmic Entity      Black     NaN   \n",
       "\n",
       "           Publisher Skin color Alignment  Weight  ...  Web Creation  \\\n",
       "0      Marvel Comics        NaN      good   441.0  ...         False   \n",
       "1  Dark Horse Comics       blue      good    65.0  ...         False   \n",
       "2          DC Comics        red      good    90.0  ...         False   \n",
       "3      Marvel Comics        NaN       bad   441.0  ...         False   \n",
       "4      Marvel Comics        NaN       bad     NaN  ...         False   \n",
       "\n",
       "   Reality Warping  Odin Force  Symbiote Costume  Speed Force  Phoenix Force  \\\n",
       "0            False       False             False        False          False   \n",
       "1            False       False             False        False          False   \n",
       "2            False       False             False        False          False   \n",
       "3            False       False             False        False          False   \n",
       "4            False       False             False        False          False   \n",
       "\n",
       "   Molecular Dissipation  Vision - Cryo  Omnipresent  Omniscient  \n",
       "0                  False          False        False       False  \n",
       "1                  False          False        False       False  \n",
       "2                  False          False        False       False  \n",
       "3                  False          False        False       False  \n",
       "4                  False          False        False       False  \n",
       "\n",
       "[5 rows x 177 columns]"
      ]
     },
     "execution_count": 2,
     "metadata": {},
     "output_type": "execute_result"
    }
   ],
   "source": [
    "# Merged_data: Dados já integrados e valores \"-99\" e \"-\" tem valor NaN agora.\n",
    "data = pd.read_csv(\"data/merged_data.csv\")\n",
    "data.head()"
   ]
  },
  {
   "cell_type": "code",
   "execution_count": 3,
   "metadata": {},
   "outputs": [
    {
     "data": {
      "text/plain": [
       "array([dtype('O'), dtype('float64'), dtype('bool')], dtype=object)"
      ]
     },
     "execution_count": 3,
     "metadata": {},
     "output_type": "execute_result"
    }
   ],
   "source": [
    "# bool are superpowers, the rest is caracteristic\n",
    "data.dtypes.unique()"
   ]
  },
  {
   "cell_type": "code",
   "execution_count": 4,
   "metadata": {},
   "outputs": [
    {
     "data": {
      "text/html": [
       "<div>\n",
       "<style scoped>\n",
       "    .dataframe tbody tr th:only-of-type {\n",
       "        vertical-align: middle;\n",
       "    }\n",
       "\n",
       "    .dataframe tbody tr th {\n",
       "        vertical-align: top;\n",
       "    }\n",
       "\n",
       "    .dataframe thead th {\n",
       "        text-align: right;\n",
       "    }\n",
       "</style>\n",
       "<table border=\"1\" class=\"dataframe\">\n",
       "  <thead>\n",
       "    <tr style=\"text-align: right;\">\n",
       "      <th></th>\n",
       "      <th>hero_names</th>\n",
       "      <th>Gender</th>\n",
       "      <th>Eye color</th>\n",
       "      <th>Race</th>\n",
       "      <th>Hair color</th>\n",
       "      <th>Publisher</th>\n",
       "      <th>Skin color</th>\n",
       "      <th>Alignment</th>\n",
       "    </tr>\n",
       "  </thead>\n",
       "  <tbody>\n",
       "    <tr>\n",
       "      <th>0</th>\n",
       "      <td>A-Bomb</td>\n",
       "      <td>Male</td>\n",
       "      <td>yellow</td>\n",
       "      <td>Human</td>\n",
       "      <td>No Hair</td>\n",
       "      <td>Marvel Comics</td>\n",
       "      <td>NaN</td>\n",
       "      <td>good</td>\n",
       "    </tr>\n",
       "    <tr>\n",
       "      <th>1</th>\n",
       "      <td>Abe Sapien</td>\n",
       "      <td>Male</td>\n",
       "      <td>blue</td>\n",
       "      <td>Icthyo Sapien</td>\n",
       "      <td>No Hair</td>\n",
       "      <td>Dark Horse Comics</td>\n",
       "      <td>blue</td>\n",
       "      <td>good</td>\n",
       "    </tr>\n",
       "    <tr>\n",
       "      <th>2</th>\n",
       "      <td>Abin Sur</td>\n",
       "      <td>Male</td>\n",
       "      <td>blue</td>\n",
       "      <td>Ungaran</td>\n",
       "      <td>No Hair</td>\n",
       "      <td>DC Comics</td>\n",
       "      <td>red</td>\n",
       "      <td>good</td>\n",
       "    </tr>\n",
       "    <tr>\n",
       "      <th>3</th>\n",
       "      <td>Abomination</td>\n",
       "      <td>Male</td>\n",
       "      <td>green</td>\n",
       "      <td>Human / Radiation</td>\n",
       "      <td>No Hair</td>\n",
       "      <td>Marvel Comics</td>\n",
       "      <td>NaN</td>\n",
       "      <td>bad</td>\n",
       "    </tr>\n",
       "    <tr>\n",
       "      <th>4</th>\n",
       "      <td>Abraxas</td>\n",
       "      <td>Male</td>\n",
       "      <td>blue</td>\n",
       "      <td>Cosmic Entity</td>\n",
       "      <td>Black</td>\n",
       "      <td>Marvel Comics</td>\n",
       "      <td>NaN</td>\n",
       "      <td>bad</td>\n",
       "    </tr>\n",
       "  </tbody>\n",
       "</table>\n",
       "</div>"
      ],
      "text/plain": [
       "    hero_names Gender Eye color               Race Hair color  \\\n",
       "0       A-Bomb   Male    yellow              Human    No Hair   \n",
       "1   Abe Sapien   Male      blue      Icthyo Sapien    No Hair   \n",
       "2     Abin Sur   Male      blue            Ungaran    No Hair   \n",
       "3  Abomination   Male     green  Human / Radiation    No Hair   \n",
       "4      Abraxas   Male      blue      Cosmic Entity      Black   \n",
       "\n",
       "           Publisher Skin color Alignment  \n",
       "0      Marvel Comics        NaN      good  \n",
       "1  Dark Horse Comics       blue      good  \n",
       "2          DC Comics        red      good  \n",
       "3      Marvel Comics        NaN       bad  \n",
       "4      Marvel Comics        NaN       bad  "
      ]
     },
     "execution_count": 4,
     "metadata": {},
     "output_type": "execute_result"
    }
   ],
   "source": [
    "data_objects = data.select_dtypes(include='O')\n",
    "data_objects.head()"
   ]
  },
  {
   "cell_type": "code",
   "execution_count": 5,
   "metadata": {},
   "outputs": [
    {
     "data": {
      "text/html": [
       "<div>\n",
       "<style scoped>\n",
       "    .dataframe tbody tr th:only-of-type {\n",
       "        vertical-align: middle;\n",
       "    }\n",
       "\n",
       "    .dataframe tbody tr th {\n",
       "        vertical-align: top;\n",
       "    }\n",
       "\n",
       "    .dataframe thead th {\n",
       "        text-align: right;\n",
       "    }\n",
       "</style>\n",
       "<table border=\"1\" class=\"dataframe\">\n",
       "  <thead>\n",
       "    <tr style=\"text-align: right;\">\n",
       "      <th></th>\n",
       "      <th>hero_names</th>\n",
       "      <th>Gender</th>\n",
       "      <th>Eye color</th>\n",
       "      <th>Race</th>\n",
       "      <th>Hair color</th>\n",
       "      <th>Publisher</th>\n",
       "      <th>Skin color</th>\n",
       "      <th>Alignment</th>\n",
       "    </tr>\n",
       "  </thead>\n",
       "  <tbody>\n",
       "    <tr>\n",
       "      <th>count</th>\n",
       "      <td>684</td>\n",
       "      <td>642</td>\n",
       "      <td>529</td>\n",
       "      <td>413</td>\n",
       "      <td>528</td>\n",
       "      <td>647</td>\n",
       "      <td>72</td>\n",
       "      <td>653</td>\n",
       "    </tr>\n",
       "    <tr>\n",
       "      <th>unique</th>\n",
       "      <td>667</td>\n",
       "      <td>2</td>\n",
       "      <td>22</td>\n",
       "      <td>60</td>\n",
       "      <td>29</td>\n",
       "      <td>24</td>\n",
       "      <td>16</td>\n",
       "      <td>3</td>\n",
       "    </tr>\n",
       "    <tr>\n",
       "      <th>top</th>\n",
       "      <td>Spider-Man</td>\n",
       "      <td>Male</td>\n",
       "      <td>blue</td>\n",
       "      <td>Human</td>\n",
       "      <td>Black</td>\n",
       "      <td>Marvel Comics</td>\n",
       "      <td>green</td>\n",
       "      <td>good</td>\n",
       "    </tr>\n",
       "    <tr>\n",
       "      <th>freq</th>\n",
       "      <td>3</td>\n",
       "      <td>464</td>\n",
       "      <td>208</td>\n",
       "      <td>195</td>\n",
       "      <td>151</td>\n",
       "      <td>341</td>\n",
       "      <td>21</td>\n",
       "      <td>435</td>\n",
       "    </tr>\n",
       "  </tbody>\n",
       "</table>\n",
       "</div>"
      ],
      "text/plain": [
       "        hero_names Gender Eye color   Race Hair color      Publisher  \\\n",
       "count          684    642       529    413        528            647   \n",
       "unique         667      2        22     60         29             24   \n",
       "top     Spider-Man   Male      blue  Human      Black  Marvel Comics   \n",
       "freq             3    464       208    195        151            341   \n",
       "\n",
       "       Skin color Alignment  \n",
       "count          72       653  \n",
       "unique         16         3  \n",
       "top         green      good  \n",
       "freq           21       435  "
      ]
     },
     "execution_count": 5,
     "metadata": {},
     "output_type": "execute_result"
    }
   ],
   "source": [
    "data_objects.describe()"
   ]
  },
  {
   "cell_type": "code",
   "execution_count": 6,
   "metadata": {},
   "outputs": [
    {
     "name": "stdout",
     "output_type": "stream",
     "text": [
      "<class 'pandas.core.frame.DataFrame'>\n",
      "RangeIndex: 684 entries, 0 to 683\n",
      "Data columns (total 8 columns):\n",
      "hero_names    684 non-null object\n",
      "Gender        642 non-null object\n",
      "Eye color     529 non-null object\n",
      "Race          413 non-null object\n",
      "Hair color    528 non-null object\n",
      "Publisher     647 non-null object\n",
      "Skin color    72 non-null object\n",
      "Alignment     653 non-null object\n",
      "dtypes: object(8)\n",
      "memory usage: 42.8+ KB\n"
     ]
    }
   ],
   "source": [
    "data_objects.info()"
   ]
  },
  {
   "cell_type": "code",
   "execution_count": 7,
   "metadata": {},
   "outputs": [
    {
     "data": {
      "text/plain": [
       "False"
      ]
     },
     "execution_count": 7,
     "metadata": {},
     "output_type": "execute_result"
    }
   ],
   "source": [
    "#poucos dados em skin color, então foi removido dos dados originais\n",
    "clean_data = data.drop('Skin color', axis=1)\n",
    "'Skin color' in (clean_data.columns)"
   ]
  },
  {
   "cell_type": "markdown",
   "metadata": {},
   "source": [
    "## Analisar objetos separadamente"
   ]
  },
  {
   "cell_type": "markdown",
   "metadata": {},
   "source": [
    "### Gender"
   ]
  },
  {
   "cell_type": "code",
   "execution_count": 8,
   "metadata": {},
   "outputs": [
    {
     "data": {
      "text/plain": [
       "array(['Male', 'Female', nan], dtype=object)"
      ]
     },
     "execution_count": 8,
     "metadata": {},
     "output_type": "execute_result"
    }
   ],
   "source": [
    "data_objects.Gender.unique()"
   ]
  },
  {
   "cell_type": "code",
   "execution_count": 9,
   "metadata": {},
   "outputs": [
    {
     "data": {
      "image/png": "[encoded data removed]",
      "text/plain": [
       "<Figure size 432x288 with 1 Axes>"
      ]
     },
     "metadata": {
      "needs_background": "light"
     },
     "output_type": "display_data"
    }
   ],
   "source": [
    "def barplot(x, data):\n",
    "    ax = sns.countplot(x=x, data=data)\n",
    "    total = data[x].count()\n",
    "    ax.set(ylabel='Quantidade')\n",
    "    for p in ax.patches:\n",
    "        height = p.get_height()\n",
    "        ax.text(p.get_x()+p.get_width()/2.,\n",
    "                height + 3,\n",
    "                '{:1.2f}%'.format((height/total)*100),\n",
    "                ha=\"center\")\n",
    "    plt.show()\n",
    "barplot(\"Gender\", data)"
   ]
  },
  {
   "cell_type": "markdown",
   "metadata": {},
   "source": [
    "Opções para lidar com nan: (fazer isso depois, pois vai ter que criar dois tipos de dataset para esse)\n",
    "- procurar no google o genero e adicionar manualmente\n",
    "- mais frequente (male)\n",
    "- para o dataset para prever o genero, remover as linhas com nan"
   ]
  },
  {
   "cell_type": "markdown",
   "metadata": {},
   "source": [
    "### Eye color"
   ]
  },
  {
   "cell_type": "code",
   "execution_count": 10,
   "metadata": {},
   "outputs": [
    {
     "data": {
      "text/plain": [
       "array(['yellow', 'blue', 'green', 'brown', nan, 'red', 'violet', 'white',\n",
       "       'purple', 'black', 'silver', 'yellow / red', 'grey',\n",
       "       'yellow (without irises)', 'gold', 'blue / white', 'hazel',\n",
       "       'green / blue', 'white / red', 'indigo', 'amber', 'yellow / blue',\n",
       "       'bown'], dtype=object)"
      ]
     },
     "execution_count": 10,
     "metadata": {},
     "output_type": "execute_result"
    }
   ],
   "source": [
    "data_objects['Eye color'].unique()"
   ]
  },
  {
   "cell_type": "code",
   "execution_count": 11,
   "metadata": {},
   "outputs": [
    {
     "data": {
      "text/plain": [
       "array(['yellow', 'blue', 'green', 'brown', nan, 'red', 'violet', 'white',\n",
       "       'purple', 'black', 'silver', 'yellow / red', 'grey',\n",
       "       'yellow (without irises)', 'gold', 'blue / white', 'hazel',\n",
       "       'green / blue', 'white / red', 'indigo', 'amber', 'yellow / blue'],\n",
       "      dtype=object)"
      ]
     },
     "execution_count": 11,
     "metadata": {},
     "output_type": "execute_result"
    }
   ],
   "source": [
    "clean_data = clean_data.replace('bown', 'brown')\n",
    "clean_data['Eye color'].unique()"
   ]
  },
  {
   "cell_type": "code",
   "execution_count": 12,
   "metadata": {},
   "outputs": [
    {
     "data": {
      "text/plain": [
       "blue                       208\n",
       "brown                      120\n",
       "green                       71\n",
       "red                         43\n",
       "black                       21\n",
       "yellow                      19\n",
       "white                       16\n",
       "hazel                        6\n",
       "grey                         5\n",
       "purple                       4\n",
       "gold                         3\n",
       "violet                       2\n",
       "yellow (without irises)      2\n",
       "amber                        2\n",
       "indigo                       1\n",
       "green / blue                 1\n",
       "blue / white                 1\n",
       "silver                       1\n",
       "white / red                  1\n",
       "yellow / red                 1\n",
       "yellow / blue                1\n",
       "Name: Eye color, dtype: int64"
      ]
     },
     "execution_count": 12,
     "metadata": {},
     "output_type": "execute_result"
    }
   ],
   "source": [
    "eye_count = clean_data[\"Eye color\"].value_counts()\n",
    "eye_count"
   ]
  },
  {
   "cell_type": "code",
   "execution_count": 13,
   "metadata": {},
   "outputs": [
    {
     "data": {
      "text/plain": [
       "Index(['hazel', 'grey', 'purple', 'gold', 'violet', 'yellow (without irises)',\n",
       "       'amber', 'indigo', 'green / blue', 'blue / white', 'silver',\n",
       "       'white / red', 'yellow / red', 'yellow / blue'],\n",
       "      dtype='object')"
      ]
     },
     "execution_count": 13,
     "metadata": {},
     "output_type": "execute_result"
    }
   ],
   "source": [
    "eye_count[eye_count < 15].index"
   ]
  },
  {
   "cell_type": "code",
   "execution_count": 14,
   "metadata": {},
   "outputs": [
    {
     "data": {
      "text/plain": [
       "array(['yellow', 'blue', 'green', 'brown', nan, 'red', 'outros', 'white',\n",
       "       'black'], dtype=object)"
      ]
     },
     "execution_count": 14,
     "metadata": {},
     "output_type": "execute_result"
    }
   ],
   "source": [
    "clean_data_grouped = clean_data.copy()\n",
    "clean_data_grouped = clean_data_grouped.replace(eye_count[eye_count < 10].index, \"outros\")\n",
    "clean_data_grouped['Eye color'].unique()"
   ]
  },
  {
   "cell_type": "code",
   "execution_count": 15,
   "metadata": {},
   "outputs": [
    {
     "data": {
      "text/plain": [
       "array(['yellow', 'blue', 'green', 'brown', nan, 'red', 'violet', 'white',\n",
       "       'purple', 'black', 'silver', 'yellow / red', 'grey',\n",
       "       'yellow (without irises)', 'gold', 'blue / white', 'hazel',\n",
       "       'green / blue', 'white / red', 'indigo', 'amber', 'yellow / blue'],\n",
       "      dtype=object)"
      ]
     },
     "execution_count": 15,
     "metadata": {},
     "output_type": "execute_result"
    }
   ],
   "source": [
    "clean_data['Eye color'].unique()"
   ]
  },
  {
   "cell_type": "code",
   "execution_count": 16,
   "metadata": {},
   "outputs": [],
   "source": [
    "clean_data['Eye color'].fillna(clean_data['Eye color'].mode()[0], inplace=True)\n",
    "clean_data_grouped['Eye color'].fillna(clean_data_grouped['Eye color'].mode()[0], inplace=True)"
   ]
  },
  {
   "cell_type": "markdown",
   "metadata": {},
   "source": [
    "### Race"
   ]
  },
  {
   "cell_type": "code",
   "execution_count": 17,
   "metadata": {},
   "outputs": [
    {
     "data": {
      "text/plain": [
       "Human                 195\n",
       "Mutant                 62\n",
       "God / Eternal          14\n",
       "Human / Radiation      11\n",
       "Cyborg                 11\n",
       "Android                 9\n",
       "Symbiote                8\n",
       "Kryptonian              7\n",
       "Alien                   7\n",
       "Demon                   6\n",
       "Atlantean               5\n",
       "Asgardian               5\n",
       "Alpha                   5\n",
       "Cosmic Entity           4\n",
       "Inhuman                 4\n",
       "Animal                  3\n",
       "New God                 3\n",
       "Human / Altered         3\n",
       "Frost Giant             2\n",
       "Vampire                 2\n",
       "Eternal                 2\n",
       "Human-Kree              2\n",
       "Amazon                  2\n",
       "Human / Cosmic          2\n",
       "Demi-God                2\n",
       "Metahuman               2\n",
       "Saiyan                  2\n",
       "Xenomorph XX121         1\n",
       "Yoda's species          1\n",
       "Icthyo Sapien           1\n",
       "Neyaphem                1\n",
       "Dathomirian Zabrak      1\n",
       "Human-Spartoi           1\n",
       "Luphomoid               1\n",
       "Maiar                   1\n",
       "Gorilla                 1\n",
       "Clone                   1\n",
       "Yautja                  1\n",
       "Bolovaxian              1\n",
       "Gungan                  1\n",
       "Korugaran               1\n",
       "Human / Clone           1\n",
       "Czarnian                1\n",
       "Tamaranean              1\n",
       "Kakarantharaian         1\n",
       "Martian                 1\n",
       "Talokite                1\n",
       "Zen-Whoberian           1\n",
       "Ungaran                 1\n",
       "Parademon               1\n",
       "Kaiju                   1\n",
       "Flora Colossus          1\n",
       "Strontian               1\n",
       "Human-Vuldarian         1\n",
       "Spartoi                 1\n",
       "Rodian                  1\n",
       "Human-Vulcan            1\n",
       "Bizarro                 1\n",
       "Mutant / Clone          1\n",
       "Zombie                  1\n",
       "Name: Race, dtype: int64"
      ]
     },
     "execution_count": 17,
     "metadata": {},
     "output_type": "execute_result"
    }
   ],
   "source": [
    "race_count = clean_data[\"Race\"].value_counts()\n",
    "race_count"
   ]
  },
  {
   "cell_type": "code",
   "execution_count": 18,
   "metadata": {},
   "outputs": [
    {
     "data": {
      "text/html": [
       "<div>\n",
       "<style scoped>\n",
       "    .dataframe tbody tr th:only-of-type {\n",
       "        vertical-align: middle;\n",
       "    }\n",
       "\n",
       "    .dataframe tbody tr th {\n",
       "        vertical-align: top;\n",
       "    }\n",
       "\n",
       "    .dataframe thead th {\n",
       "        text-align: right;\n",
       "    }\n",
       "</style>\n",
       "<table border=\"1\" class=\"dataframe\">\n",
       "  <thead>\n",
       "    <tr style=\"text-align: right;\">\n",
       "      <th></th>\n",
       "      <th>hero_names</th>\n",
       "      <th>Gender</th>\n",
       "      <th>Eye color</th>\n",
       "      <th>Race</th>\n",
       "      <th>Hair color</th>\n",
       "      <th>Height</th>\n",
       "      <th>Publisher</th>\n",
       "      <th>Alignment</th>\n",
       "      <th>Weight</th>\n",
       "      <th>Agility</th>\n",
       "      <th>...</th>\n",
       "      <th>Web Creation</th>\n",
       "      <th>Reality Warping</th>\n",
       "      <th>Odin Force</th>\n",
       "      <th>Symbiote Costume</th>\n",
       "      <th>Speed Force</th>\n",
       "      <th>Phoenix Force</th>\n",
       "      <th>Molecular Dissipation</th>\n",
       "      <th>Vision - Cryo</th>\n",
       "      <th>Omnipresent</th>\n",
       "      <th>Omniscient</th>\n",
       "    </tr>\n",
       "  </thead>\n",
       "  <tbody>\n",
       "    <tr>\n",
       "      <th>117</th>\n",
       "      <td>Boba Fett</td>\n",
       "      <td>Male</td>\n",
       "      <td>brown</td>\n",
       "      <td>Human / Clone</td>\n",
       "      <td>Black</td>\n",
       "      <td>183.0</td>\n",
       "      <td>George Lucas</td>\n",
       "      <td>bad</td>\n",
       "      <td>NaN</td>\n",
       "      <td>True</td>\n",
       "      <td>...</td>\n",
       "      <td>False</td>\n",
       "      <td>False</td>\n",
       "      <td>False</td>\n",
       "      <td>False</td>\n",
       "      <td>False</td>\n",
       "      <td>False</td>\n",
       "      <td>False</td>\n",
       "      <td>False</td>\n",
       "      <td>False</td>\n",
       "      <td>False</td>\n",
       "    </tr>\n",
       "  </tbody>\n",
       "</table>\n",
       "<p>1 rows × 176 columns</p>\n",
       "</div>"
      ],
      "text/plain": [
       "    hero_names Gender Eye color           Race Hair color  Height  \\\n",
       "117  Boba Fett   Male     brown  Human / Clone      Black   183.0   \n",
       "\n",
       "        Publisher Alignment  Weight  Agility  ...  Web Creation  \\\n",
       "117  George Lucas       bad     NaN     True  ...         False   \n",
       "\n",
       "     Reality Warping  Odin Force  Symbiote Costume  Speed Force  \\\n",
       "117            False       False             False        False   \n",
       "\n",
       "     Phoenix Force  Molecular Dissipation  Vision - Cryo  Omnipresent  \\\n",
       "117          False                  False          False        False   \n",
       "\n",
       "     Omniscient  \n",
       "117       False  \n",
       "\n",
       "[1 rows x 176 columns]"
      ]
     },
     "execution_count": 18,
     "metadata": {},
     "output_type": "execute_result"
    }
   ],
   "source": [
    "clean_data.loc[clean_data['Race']=='Human / Clone']"
   ]
  },
  {
   "cell_type": "markdown",
   "metadata": {},
   "source": [
    "Idea de agrupamento\n",
    "- Juntar todos os que tem human no nome da raça\n",
    "- agrupar raças mais similares (gorilla e animal, mutant e metahuman)\n",
    "- pegar os menores e agrupar"
   ]
  },
  {
   "cell_type": "code",
   "execution_count": 19,
   "metadata": {},
   "outputs": [
    {
     "data": {
      "text/plain": [
       "array(['Human', 'outros', nan, 'Mutant'], dtype=object)"
      ]
     },
     "execution_count": 19,
     "metadata": {},
     "output_type": "execute_result"
    }
   ],
   "source": [
    "clean_data_grouped = clean_data_grouped.replace(race_count[race_count < 15].index, \"outros\")\n",
    "clean_data_grouped['Race'].unique()"
   ]
  },
  {
   "cell_type": "code",
   "execution_count": 20,
   "metadata": {},
   "outputs": [
    {
     "data": {
      "image/png": "[encoded data removed]",
      "text/plain": [
       "<Figure size 432x288 with 1 Axes>"
      ]
     },
     "metadata": {
      "needs_background": "light"
     },
     "output_type": "display_data"
    }
   ],
   "source": [
    "barplot('Race', clean_data_grouped)"
   ]
  },
  {
   "cell_type": "code",
   "execution_count": 21,
   "metadata": {},
   "outputs": [],
   "source": [
    "clean_data['Race'].fillna(clean_data['Race'].mode()[0], inplace=True)\n",
    "clean_data_grouped['Race'].fillna(clean_data_grouped['Race'].mode()[0], inplace=True)"
   ]
  },
  {
   "cell_type": "markdown",
   "metadata": {},
   "source": [
    "### Hair color"
   ]
  },
  {
   "cell_type": "code",
   "execution_count": 22,
   "metadata": {},
   "outputs": [
    {
     "data": {
      "text/plain": [
       "Black               151\n",
       "Blond                88\n",
       "Brown                82\n",
       "No Hair              69\n",
       "Red                  49\n",
       "White                22\n",
       "Auburn               13\n",
       "Green                 8\n",
       "Strawberry Blond      6\n",
       "Purple                5\n",
       "Brown / White         4\n",
       "Silver                4\n",
       "Grey                  4\n",
       "blond                 3\n",
       "Blue                  3\n",
       "black                 3\n",
       "Orange                2\n",
       "Red / Orange          1\n",
       "Gold                  1\n",
       "Yellow                1\n",
       "Magenta               1\n",
       "Red / White           1\n",
       "Indigo                1\n",
       "Brownn                1\n",
       "Orange / White        1\n",
       "Black / Blue          1\n",
       "Brown / Black         1\n",
       "Red / Grey            1\n",
       "Pink                  1\n",
       "Name: Hair color, dtype: int64"
      ]
     },
     "execution_count": 22,
     "metadata": {},
     "output_type": "execute_result"
    }
   ],
   "source": [
    "hair_count = clean_data[\"Hair color\"].value_counts()\n",
    "hair_count"
   ]
  },
  {
   "cell_type": "code",
   "execution_count": 23,
   "metadata": {},
   "outputs": [],
   "source": [
    "clean_data = clean_data.replace(['Brownn', 'black', 'blond'], ['Brown', 'Black', 'Blond'])\n",
    "clean_data_grouped = clean_data_grouped.replace(['Brownn', 'black', 'blond'], ['Brown', 'Black', 'Blond'])"
   ]
  },
  {
   "cell_type": "code",
   "execution_count": 24,
   "metadata": {},
   "outputs": [
    {
     "data": {
      "text/plain": [
       "array(['No Hair', 'Black', 'Blond', 'Brown', nan, 'White', 'outros',\n",
       "       'Red'], dtype=object)"
      ]
     },
     "execution_count": 24,
     "metadata": {},
     "output_type": "execute_result"
    }
   ],
   "source": [
    "clean_data_grouped = clean_data_grouped.replace(hair_count[hair_count < 15].index, \"outros\")\n",
    "clean_data_grouped['Hair color'].unique()"
   ]
  },
  {
   "cell_type": "code",
   "execution_count": 25,
   "metadata": {},
   "outputs": [],
   "source": [
    "clean_data['Hair color'].fillna(clean_data['Hair color'].mode()[0], inplace=True)\n",
    "clean_data_grouped['Hair color'].fillna(clean_data_grouped['Hair color'].mode()[0], inplace=True)"
   ]
  },
  {
   "cell_type": "markdown",
   "metadata": {},
   "source": [
    "### Publisher"
   ]
  },
  {
   "cell_type": "code",
   "execution_count": 26,
   "metadata": {},
   "outputs": [
    {
     "data": {
      "text/plain": [
       "Marvel Comics        341\n",
       "DC Comics            196\n",
       "Dark Horse Comics     18\n",
       "NBC - Heroes          18\n",
       "Image Comics          14\n",
       "George Lucas          13\n",
       "Star Trek              6\n",
       "Team Epic TV           5\n",
       "SyFy                   5\n",
       "Icon Comics            4\n",
       "ABC Studios            4\n",
       "Shueisha               4\n",
       "IDW Publishing         4\n",
       "Wildstorm              3\n",
       "HarperCollins          3\n",
       "Rebellion              1\n",
       "J. R. R. Tolkien       1\n",
       "Hanna-Barbera          1\n",
       "Sony Pictures          1\n",
       "Titan Books            1\n",
       "Microsoft              1\n",
       "South Park             1\n",
       "J. K. Rowling          1\n",
       "Universal Studios      1\n",
       "Name: Publisher, dtype: int64"
      ]
     },
     "execution_count": 26,
     "metadata": {},
     "output_type": "execute_result"
    }
   ],
   "source": [
    "publisher_count = clean_data[\"Publisher\"].value_counts()\n",
    "publisher_count"
   ]
  },
  {
   "cell_type": "code",
   "execution_count": 27,
   "metadata": {},
   "outputs": [
    {
     "data": {
      "text/plain": [
       "array(['Marvel Comics', 'Dark Horse Comics', 'DC Comics', 'NBC - Heroes',\n",
       "       'outros', 'Image Comics', nan, 'George Lucas'], dtype=object)"
      ]
     },
     "execution_count": 27,
     "metadata": {},
     "output_type": "execute_result"
    }
   ],
   "source": [
    "clean_data = clean_data.replace(publisher_count[publisher_count< 8].index, 'outros')\n",
    "clean_data['Publisher'].unique()"
   ]
  },
  {
   "cell_type": "code",
   "execution_count": 28,
   "metadata": {},
   "outputs": [
    {
     "data": {
      "text/plain": [
       "array(['Marvel Comics', 'Dark Horse Comics', 'DC Comics', 'NBC - Heroes',\n",
       "       'outros', 'Image Comics', nan, 'George Lucas'], dtype=object)"
      ]
     },
     "execution_count": 28,
     "metadata": {},
     "output_type": "execute_result"
    }
   ],
   "source": [
    "clean_data_grouped = clean_data_grouped.replace(publisher_count[publisher_count< 8].index, 'outros')\n",
    "clean_data_grouped['Publisher'].unique()"
   ]
  },
  {
   "cell_type": "markdown",
   "metadata": {},
   "source": [
    "### Alignment"
   ]
  },
  {
   "cell_type": "code",
   "execution_count": 29,
   "metadata": {},
   "outputs": [
    {
     "data": {
      "text/plain": [
       "good       435\n",
       "bad        194\n",
       "neutral     24\n",
       "Name: Alignment, dtype: int64"
      ]
     },
     "execution_count": 29,
     "metadata": {},
     "output_type": "execute_result"
    }
   ],
   "source": [
    "alignment_count = clean_data[\"Alignment\"].value_counts()\n",
    "alignment_count"
   ]
  },
  {
   "cell_type": "code",
   "execution_count": 30,
   "metadata": {},
   "outputs": [
    {
     "data": {
      "image/png": "[encoded data removed]",
      "text/plain": [
       "<Figure size 432x288 with 1 Axes>"
      ]
     },
     "metadata": {
      "needs_background": "light"
     },
     "output_type": "display_data"
    }
   ],
   "source": [
    "barplot('Alignment', clean_data)"
   ]
  },
  {
   "cell_type": "markdown",
   "metadata": {},
   "source": [
    "## Dados numericos "
   ]
  },
  {
   "cell_type": "code",
   "execution_count": 31,
   "metadata": {},
   "outputs": [
    {
     "data": {
      "text/html": [
       "<div>\n",
       "<style scoped>\n",
       "    .dataframe tbody tr th:only-of-type {\n",
       "        vertical-align: middle;\n",
       "    }\n",
       "\n",
       "    .dataframe tbody tr th {\n",
       "        vertical-align: top;\n",
       "    }\n",
       "\n",
       "    .dataframe thead th {\n",
       "        text-align: right;\n",
       "    }\n",
       "</style>\n",
       "<table border=\"1\" class=\"dataframe\">\n",
       "  <thead>\n",
       "    <tr style=\"text-align: right;\">\n",
       "      <th></th>\n",
       "      <th>Height</th>\n",
       "      <th>Weight</th>\n",
       "    </tr>\n",
       "  </thead>\n",
       "  <tbody>\n",
       "    <tr>\n",
       "      <th>0</th>\n",
       "      <td>203.0</td>\n",
       "      <td>441.0</td>\n",
       "    </tr>\n",
       "    <tr>\n",
       "      <th>1</th>\n",
       "      <td>191.0</td>\n",
       "      <td>65.0</td>\n",
       "    </tr>\n",
       "    <tr>\n",
       "      <th>2</th>\n",
       "      <td>185.0</td>\n",
       "      <td>90.0</td>\n",
       "    </tr>\n",
       "    <tr>\n",
       "      <th>3</th>\n",
       "      <td>203.0</td>\n",
       "      <td>441.0</td>\n",
       "    </tr>\n",
       "    <tr>\n",
       "      <th>4</th>\n",
       "      <td>NaN</td>\n",
       "      <td>NaN</td>\n",
       "    </tr>\n",
       "  </tbody>\n",
       "</table>\n",
       "</div>"
      ],
      "text/plain": [
       "   Height  Weight\n",
       "0   203.0   441.0\n",
       "1   191.0    65.0\n",
       "2   185.0    90.0\n",
       "3   203.0   441.0\n",
       "4     NaN     NaN"
      ]
     },
     "execution_count": 31,
     "metadata": {},
     "output_type": "execute_result"
    }
   ],
   "source": [
    "data_float = clean_data.select_dtypes(include='float64')\n",
    "data_float.head()"
   ]
  },
  {
   "cell_type": "code",
   "execution_count": 32,
   "metadata": {},
   "outputs": [
    {
     "data": {
      "text/html": [
       "<div>\n",
       "<style scoped>\n",
       "    .dataframe tbody tr th:only-of-type {\n",
       "        vertical-align: middle;\n",
       "    }\n",
       "\n",
       "    .dataframe tbody tr th {\n",
       "        vertical-align: top;\n",
       "    }\n",
       "\n",
       "    .dataframe thead th {\n",
       "        text-align: right;\n",
       "    }\n",
       "</style>\n",
       "<table border=\"1\" class=\"dataframe\">\n",
       "  <thead>\n",
       "    <tr style=\"text-align: right;\">\n",
       "      <th></th>\n",
       "      <th>Height</th>\n",
       "      <th>Weight</th>\n",
       "    </tr>\n",
       "  </thead>\n",
       "  <tbody>\n",
       "    <tr>\n",
       "      <th>count</th>\n",
       "      <td>490.000000</td>\n",
       "      <td>468.000000</td>\n",
       "    </tr>\n",
       "    <tr>\n",
       "      <th>mean</th>\n",
       "      <td>187.237755</td>\n",
       "      <td>113.651709</td>\n",
       "    </tr>\n",
       "    <tr>\n",
       "      <th>std</th>\n",
       "      <td>60.576189</td>\n",
       "      <td>106.505504</td>\n",
       "    </tr>\n",
       "    <tr>\n",
       "      <th>min</th>\n",
       "      <td>15.200000</td>\n",
       "      <td>2.000000</td>\n",
       "    </tr>\n",
       "    <tr>\n",
       "      <th>25%</th>\n",
       "      <td>173.500000</td>\n",
       "      <td>61.000000</td>\n",
       "    </tr>\n",
       "    <tr>\n",
       "      <th>50%</th>\n",
       "      <td>183.000000</td>\n",
       "      <td>81.000000</td>\n",
       "    </tr>\n",
       "    <tr>\n",
       "      <th>75%</th>\n",
       "      <td>190.250000</td>\n",
       "      <td>106.500000</td>\n",
       "    </tr>\n",
       "    <tr>\n",
       "      <th>max</th>\n",
       "      <td>975.000000</td>\n",
       "      <td>900.000000</td>\n",
       "    </tr>\n",
       "  </tbody>\n",
       "</table>\n",
       "</div>"
      ],
      "text/plain": [
       "           Height      Weight\n",
       "count  490.000000  468.000000\n",
       "mean   187.237755  113.651709\n",
       "std     60.576189  106.505504\n",
       "min     15.200000    2.000000\n",
       "25%    173.500000   61.000000\n",
       "50%    183.000000   81.000000\n",
       "75%    190.250000  106.500000\n",
       "max    975.000000  900.000000"
      ]
     },
     "execution_count": 32,
     "metadata": {},
     "output_type": "execute_result"
    }
   ],
   "source": [
    "data_float.describe()"
   ]
  },
  {
   "cell_type": "code",
   "execution_count": 33,
   "metadata": {},
   "outputs": [
    {
     "name": "stdout",
     "output_type": "stream",
     "text": [
      "<class 'pandas.core.frame.DataFrame'>\n",
      "RangeIndex: 684 entries, 0 to 683\n",
      "Data columns (total 2 columns):\n",
      "Height    490 non-null float64\n",
      "Weight    468 non-null float64\n",
      "dtypes: float64(2)\n",
      "memory usage: 10.8 KB\n"
     ]
    }
   ],
   "source": [
    "data_float.info()"
   ]
  },
  {
   "cell_type": "code",
   "execution_count": 34,
   "metadata": {},
   "outputs": [
    {
     "data": {
      "image/png": "[encoded data removed]",
      "text/plain": [
       "<Figure size 432x288 with 1 Axes>"
      ]
     },
     "metadata": {
      "needs_background": "light"
     },
     "output_type": "display_data"
    }
   ],
   "source": [
    "ax = sns.boxplot(x=clean_data[\"Height\"])"
   ]
  },
  {
   "cell_type": "code",
   "execution_count": 35,
   "metadata": {},
   "outputs": [],
   "source": [
    "clean_data['Height'].fillna(clean_data['Height'].median(), inplace=True)\n",
    "clean_data_grouped['Height'].fillna(clean_data_grouped['Height'].median(), inplace=True)"
   ]
  },
  {
   "cell_type": "code",
   "execution_count": 36,
   "metadata": {},
   "outputs": [
    {
     "data": {
      "image/png": "[encoded data removed]",
      "text/plain": [
       "<Figure size 432x288 with 1 Axes>"
      ]
     },
     "metadata": {
      "needs_background": "light"
     },
     "output_type": "display_data"
    }
   ],
   "source": [
    "ax = sns.boxplot(x=clean_data[\"Weight\"])"
   ]
  },
  {
   "cell_type": "code",
   "execution_count": 37,
   "metadata": {},
   "outputs": [],
   "source": [
    "clean_data['Weight'].fillna(clean_data['Weight'].median(), inplace=True)\n",
    "clean_data_grouped['Weight'].fillna(clean_data_grouped['Weight'].median(), inplace=True)"
   ]
  },
  {
   "cell_type": "code",
   "execution_count": 38,
   "metadata": {},
   "outputs": [
    {
     "data": {
      "text/html": [
       "<div>\n",
       "<style scoped>\n",
       "    .dataframe tbody tr th:only-of-type {\n",
       "        vertical-align: middle;\n",
       "    }\n",
       "\n",
       "    .dataframe tbody tr th {\n",
       "        vertical-align: top;\n",
       "    }\n",
       "\n",
       "    .dataframe thead th {\n",
       "        text-align: right;\n",
       "    }\n",
       "</style>\n",
       "<table border=\"1\" class=\"dataframe\">\n",
       "  <thead>\n",
       "    <tr style=\"text-align: right;\">\n",
       "      <th></th>\n",
       "      <th>hero_names</th>\n",
       "      <th>Gender</th>\n",
       "      <th>Eye color</th>\n",
       "      <th>Race</th>\n",
       "      <th>Hair color</th>\n",
       "      <th>Height</th>\n",
       "      <th>Publisher</th>\n",
       "      <th>Alignment</th>\n",
       "      <th>Weight</th>\n",
       "      <th>Agility</th>\n",
       "      <th>...</th>\n",
       "      <th>Web Creation</th>\n",
       "      <th>Reality Warping</th>\n",
       "      <th>Odin Force</th>\n",
       "      <th>Symbiote Costume</th>\n",
       "      <th>Speed Force</th>\n",
       "      <th>Phoenix Force</th>\n",
       "      <th>Molecular Dissipation</th>\n",
       "      <th>Vision - Cryo</th>\n",
       "      <th>Omnipresent</th>\n",
       "      <th>Omniscient</th>\n",
       "    </tr>\n",
       "  </thead>\n",
       "  <tbody>\n",
       "    <tr>\n",
       "      <th>230</th>\n",
       "      <td>Fin Fang Foom</td>\n",
       "      <td>Male</td>\n",
       "      <td>red</td>\n",
       "      <td>outros</td>\n",
       "      <td>No Hair</td>\n",
       "      <td>5</td>\n",
       "      <td>Marvel Comics</td>\n",
       "      <td>good</td>\n",
       "      <td>18.0</td>\n",
       "      <td>False</td>\n",
       "      <td>...</td>\n",
       "      <td>False</td>\n",
       "      <td>False</td>\n",
       "      <td>False</td>\n",
       "      <td>False</td>\n",
       "      <td>False</td>\n",
       "      <td>False</td>\n",
       "      <td>False</td>\n",
       "      <td>False</td>\n",
       "      <td>False</td>\n",
       "      <td>False</td>\n",
       "    </tr>\n",
       "    <tr>\n",
       "      <th>245</th>\n",
       "      <td>Galactus</td>\n",
       "      <td>Male</td>\n",
       "      <td>Black</td>\n",
       "      <td>outros</td>\n",
       "      <td>Black</td>\n",
       "      <td>5</td>\n",
       "      <td>Marvel Comics</td>\n",
       "      <td>neutral</td>\n",
       "      <td>16.0</td>\n",
       "      <td>False</td>\n",
       "      <td>...</td>\n",
       "      <td>False</td>\n",
       "      <td>False</td>\n",
       "      <td>False</td>\n",
       "      <td>False</td>\n",
       "      <td>False</td>\n",
       "      <td>False</td>\n",
       "      <td>False</td>\n",
       "      <td>False</td>\n",
       "      <td>False</td>\n",
       "      <td>False</td>\n",
       "    </tr>\n",
       "    <tr>\n",
       "      <th>270</th>\n",
       "      <td>Groot</td>\n",
       "      <td>Male</td>\n",
       "      <td>yellow</td>\n",
       "      <td>outros</td>\n",
       "      <td>Black</td>\n",
       "      <td>5</td>\n",
       "      <td>Marvel Comics</td>\n",
       "      <td>good</td>\n",
       "      <td>4.0</td>\n",
       "      <td>False</td>\n",
       "      <td>...</td>\n",
       "      <td>False</td>\n",
       "      <td>False</td>\n",
       "      <td>False</td>\n",
       "      <td>False</td>\n",
       "      <td>False</td>\n",
       "      <td>False</td>\n",
       "      <td>False</td>\n",
       "      <td>False</td>\n",
       "      <td>False</td>\n",
       "      <td>False</td>\n",
       "    </tr>\n",
       "  </tbody>\n",
       "</table>\n",
       "<p>3 rows × 176 columns</p>\n",
       "</div>"
      ],
      "text/plain": [
       "        hero_names Gender Eye color    Race Hair color  Height      Publisher  \\\n",
       "230  Fin Fang Foom   Male       red  outros    No Hair       5  Marvel Comics   \n",
       "245       Galactus   Male     Black  outros      Black       5  Marvel Comics   \n",
       "270          Groot   Male    yellow  outros      Black       5  Marvel Comics   \n",
       "\n",
       "    Alignment  Weight  Agility  ...  Web Creation  Reality Warping  \\\n",
       "230      good    18.0    False  ...         False            False   \n",
       "245   neutral    16.0    False  ...         False            False   \n",
       "270      good     4.0    False  ...         False            False   \n",
       "\n",
       "     Odin Force  Symbiote Costume  Speed Force  Phoenix Force  \\\n",
       "230       False             False        False          False   \n",
       "245       False             False        False          False   \n",
       "270       False             False        False          False   \n",
       "\n",
       "     Molecular Dissipation  Vision - Cryo  Omnipresent  Omniscient  \n",
       "230                  False          False        False       False  \n",
       "245                  False          False        False       False  \n",
       "270                  False          False        False       False  \n",
       "\n",
       "[3 rows x 176 columns]"
      ]
     },
     "execution_count": 38,
     "metadata": {},
     "output_type": "execute_result"
    }
   ],
   "source": [
    "gigantes = clean_data_grouped.loc[clean_data_grouped[\"Height\"]>600].copy()\n",
    "gigantes['Height'] = 5\n",
    "gigantes"
   ]
  },
  {
   "cell_type": "code",
   "execution_count": 39,
   "metadata": {},
   "outputs": [
    {
     "data": {
      "text/html": [
       "<div>\n",
       "<style scoped>\n",
       "    .dataframe tbody tr th:only-of-type {\n",
       "        vertical-align: middle;\n",
       "    }\n",
       "\n",
       "    .dataframe tbody tr th {\n",
       "        vertical-align: top;\n",
       "    }\n",
       "\n",
       "    .dataframe thead th {\n",
       "        text-align: right;\n",
       "    }\n",
       "</style>\n",
       "<table border=\"1\" class=\"dataframe\">\n",
       "  <thead>\n",
       "    <tr style=\"text-align: right;\">\n",
       "      <th></th>\n",
       "      <th>hero_names</th>\n",
       "      <th>Gender</th>\n",
       "      <th>Eye color</th>\n",
       "      <th>Race</th>\n",
       "      <th>Hair color</th>\n",
       "      <th>Height</th>\n",
       "      <th>Publisher</th>\n",
       "      <th>Alignment</th>\n",
       "      <th>Weight</th>\n",
       "      <th>Agility</th>\n",
       "      <th>...</th>\n",
       "      <th>Web Creation</th>\n",
       "      <th>Reality Warping</th>\n",
       "      <th>Odin Force</th>\n",
       "      <th>Symbiote Costume</th>\n",
       "      <th>Speed Force</th>\n",
       "      <th>Phoenix Force</th>\n",
       "      <th>Molecular Dissipation</th>\n",
       "      <th>Vision - Cryo</th>\n",
       "      <th>Omnipresent</th>\n",
       "      <th>Omniscient</th>\n",
       "    </tr>\n",
       "  </thead>\n",
       "  <tbody>\n",
       "    <tr>\n",
       "      <th>180</th>\n",
       "      <td>Darkseid</td>\n",
       "      <td>Male</td>\n",
       "      <td>red</td>\n",
       "      <td>outros</td>\n",
       "      <td>No Hair</td>\n",
       "      <td>267.0</td>\n",
       "      <td>DC Comics</td>\n",
       "      <td>bad</td>\n",
       "      <td>6</td>\n",
       "      <td>True</td>\n",
       "      <td>...</td>\n",
       "      <td>False</td>\n",
       "      <td>False</td>\n",
       "      <td>False</td>\n",
       "      <td>False</td>\n",
       "      <td>False</td>\n",
       "      <td>False</td>\n",
       "      <td>False</td>\n",
       "      <td>False</td>\n",
       "      <td>False</td>\n",
       "      <td>False</td>\n",
       "    </tr>\n",
       "    <tr>\n",
       "      <th>254</th>\n",
       "      <td>Giganta</td>\n",
       "      <td>Female</td>\n",
       "      <td>green</td>\n",
       "      <td>Human</td>\n",
       "      <td>Red</td>\n",
       "      <td>62.5</td>\n",
       "      <td>DC Comics</td>\n",
       "      <td>bad</td>\n",
       "      <td>6</td>\n",
       "      <td>False</td>\n",
       "      <td>...</td>\n",
       "      <td>False</td>\n",
       "      <td>False</td>\n",
       "      <td>False</td>\n",
       "      <td>False</td>\n",
       "      <td>False</td>\n",
       "      <td>False</td>\n",
       "      <td>False</td>\n",
       "      <td>False</td>\n",
       "      <td>False</td>\n",
       "      <td>False</td>\n",
       "    </tr>\n",
       "    <tr>\n",
       "      <th>294</th>\n",
       "      <td>Hulk</td>\n",
       "      <td>Male</td>\n",
       "      <td>green</td>\n",
       "      <td>outros</td>\n",
       "      <td>outros</td>\n",
       "      <td>244.0</td>\n",
       "      <td>Marvel Comics</td>\n",
       "      <td>good</td>\n",
       "      <td>6</td>\n",
       "      <td>True</td>\n",
       "      <td>...</td>\n",
       "      <td>False</td>\n",
       "      <td>False</td>\n",
       "      <td>False</td>\n",
       "      <td>False</td>\n",
       "      <td>False</td>\n",
       "      <td>False</td>\n",
       "      <td>False</td>\n",
       "      <td>False</td>\n",
       "      <td>False</td>\n",
       "      <td>False</td>\n",
       "    </tr>\n",
       "    <tr>\n",
       "      <th>332</th>\n",
       "      <td>Juggernaut</td>\n",
       "      <td>Male</td>\n",
       "      <td>blue</td>\n",
       "      <td>Human</td>\n",
       "      <td>Red</td>\n",
       "      <td>287.0</td>\n",
       "      <td>Marvel Comics</td>\n",
       "      <td>neutral</td>\n",
       "      <td>6</td>\n",
       "      <td>False</td>\n",
       "      <td>...</td>\n",
       "      <td>False</td>\n",
       "      <td>False</td>\n",
       "      <td>False</td>\n",
       "      <td>False</td>\n",
       "      <td>False</td>\n",
       "      <td>False</td>\n",
       "      <td>False</td>\n",
       "      <td>False</td>\n",
       "      <td>False</td>\n",
       "      <td>False</td>\n",
       "    </tr>\n",
       "    <tr>\n",
       "      <th>493</th>\n",
       "      <td>Red Hulk</td>\n",
       "      <td>Male</td>\n",
       "      <td>yellow</td>\n",
       "      <td>outros</td>\n",
       "      <td>Black</td>\n",
       "      <td>213.0</td>\n",
       "      <td>Marvel Comics</td>\n",
       "      <td>neutral</td>\n",
       "      <td>6</td>\n",
       "      <td>False</td>\n",
       "      <td>...</td>\n",
       "      <td>False</td>\n",
       "      <td>False</td>\n",
       "      <td>False</td>\n",
       "      <td>False</td>\n",
       "      <td>False</td>\n",
       "      <td>False</td>\n",
       "      <td>False</td>\n",
       "      <td>False</td>\n",
       "      <td>False</td>\n",
       "      <td>False</td>\n",
       "    </tr>\n",
       "    <tr>\n",
       "      <th>517</th>\n",
       "      <td>Sasquatch</td>\n",
       "      <td>Male</td>\n",
       "      <td>red</td>\n",
       "      <td>Human</td>\n",
       "      <td>outros</td>\n",
       "      <td>305.0</td>\n",
       "      <td>Marvel Comics</td>\n",
       "      <td>good</td>\n",
       "      <td>6</td>\n",
       "      <td>True</td>\n",
       "      <td>...</td>\n",
       "      <td>False</td>\n",
       "      <td>False</td>\n",
       "      <td>False</td>\n",
       "      <td>False</td>\n",
       "      <td>False</td>\n",
       "      <td>False</td>\n",
       "      <td>False</td>\n",
       "      <td>False</td>\n",
       "      <td>False</td>\n",
       "      <td>False</td>\n",
       "    </tr>\n",
       "  </tbody>\n",
       "</table>\n",
       "<p>6 rows × 176 columns</p>\n",
       "</div>"
      ],
      "text/plain": [
       "     hero_names  Gender Eye color    Race Hair color  Height      Publisher  \\\n",
       "180    Darkseid    Male       red  outros    No Hair   267.0      DC Comics   \n",
       "254     Giganta  Female     green   Human        Red    62.5      DC Comics   \n",
       "294        Hulk    Male     green  outros     outros   244.0  Marvel Comics   \n",
       "332  Juggernaut    Male      blue   Human        Red   287.0  Marvel Comics   \n",
       "493    Red Hulk    Male    yellow  outros      Black   213.0  Marvel Comics   \n",
       "517   Sasquatch    Male       red   Human     outros   305.0  Marvel Comics   \n",
       "\n",
       "    Alignment  Weight  Agility  ...  Web Creation  Reality Warping  \\\n",
       "180       bad       6     True  ...         False            False   \n",
       "254       bad       6    False  ...         False            False   \n",
       "294      good       6     True  ...         False            False   \n",
       "332   neutral       6    False  ...         False            False   \n",
       "493   neutral       6    False  ...         False            False   \n",
       "517      good       6     True  ...         False            False   \n",
       "\n",
       "     Odin Force  Symbiote Costume  Speed Force  Phoenix Force  \\\n",
       "180       False             False        False          False   \n",
       "254       False             False        False          False   \n",
       "294       False             False        False          False   \n",
       "332       False             False        False          False   \n",
       "493       False             False        False          False   \n",
       "517       False             False        False          False   \n",
       "\n",
       "     Molecular Dissipation  Vision - Cryo  Omnipresent  Omniscient  \n",
       "180                  False          False        False       False  \n",
       "254                  False          False        False       False  \n",
       "294                  False          False        False       False  \n",
       "332                  False          False        False       False  \n",
       "493                  False          False        False       False  \n",
       "517                  False          False        False       False  \n",
       "\n",
       "[6 rows x 176 columns]"
      ]
     },
     "execution_count": 39,
     "metadata": {},
     "output_type": "execute_result"
    }
   ],
   "source": [
    "obesos = clean_data_grouped.loc[clean_data_grouped[\"Weight\"]>600].copy()\n",
    "obesos['Weight'] = 6\n",
    "obesos"
   ]
  },
  {
   "cell_type": "code",
   "execution_count": 40,
   "metadata": {},
   "outputs": [
    {
     "name": "stdout",
     "output_type": "stream",
     "text": [
      "(684, 176)\n"
     ]
    },
    {
     "data": {
      "text/plain": [
       "(681, 176)"
      ]
     },
     "execution_count": 40,
     "metadata": {},
     "output_type": "execute_result"
    }
   ],
   "source": [
    "print(clean_data_grouped.shape)\n",
    "clean_data_grouped.drop(gigantes.index, inplace=True)\n",
    "clean_data_grouped.shape"
   ]
  },
  {
   "cell_type": "code",
   "execution_count": 41,
   "metadata": {},
   "outputs": [
    {
     "data": {
      "image/png": "[encoded data removed]",
      "text/plain": [
       "<Figure size 432x288 with 1 Axes>"
      ]
     },
     "metadata": {
      "needs_background": "light"
     },
     "output_type": "display_data"
    }
   ],
   "source": [
    "plt.plot(clean_data_grouped['Height'], np.zeros_like(clean_data_grouped['Height'].array), 'x')\n",
    "plt.show()"
   ]
  },
  {
   "cell_type": "code",
   "execution_count": 42,
   "metadata": {},
   "outputs": [
    {
     "data": {
      "text/plain": [
       "(684, 176)"
      ]
     },
     "execution_count": 42,
     "metadata": {},
     "output_type": "execute_result"
    }
   ],
   "source": [
    "labels = [1, 2, 3, 4]\n",
    "clean_data_grouped[\"Height\"] = pd.cut(clean_data_grouped[\"Height\"], 4, labels=labels)\n",
    "clean_data_grouped = clean_data_grouped.append(gigantes)\n",
    "clean_data_grouped.shape"
   ]
  },
  {
   "cell_type": "code",
   "execution_count": 43,
   "metadata": {},
   "outputs": [
    {
     "data": {
      "image/png": "[encoded data removed]",
      "text/plain": [
       "<Figure size 432x288 with 1 Axes>"
      ]
     },
     "metadata": {
      "needs_background": "light"
     },
     "output_type": "display_data"
    }
   ],
   "source": [
    "barplot('Height', clean_data_grouped)"
   ]
  },
  {
   "cell_type": "code",
   "execution_count": 44,
   "metadata": {},
   "outputs": [
    {
     "name": "stdout",
     "output_type": "stream",
     "text": [
      "(684, 176)\n"
     ]
    },
    {
     "data": {
      "text/plain": [
       "(678, 176)"
      ]
     },
     "execution_count": 44,
     "metadata": {},
     "output_type": "execute_result"
    }
   ],
   "source": [
    "print(clean_data_grouped.shape)\n",
    "clean_data_grouped.drop(obesos.index, inplace=True)\n",
    "clean_data_grouped.shape"
   ]
  },
  {
   "cell_type": "code",
   "execution_count": 45,
   "metadata": {},
   "outputs": [
    {
     "data": {
      "text/plain": [
       "(684, 176)"
      ]
     },
     "execution_count": 45,
     "metadata": {},
     "output_type": "execute_result"
    }
   ],
   "source": [
    "labels = [1, 2, 3, 4, 5]\n",
    "clean_data_grouped[\"Weight\"] = pd.cut(clean_data_grouped[\"Weight\"], 5, labels=labels)\n",
    "clean_data_grouped = clean_data_grouped.append(obesos)\n",
    "clean_data_grouped.shape"
   ]
  },
  {
   "cell_type": "code",
   "execution_count": 46,
   "metadata": {},
   "outputs": [
    {
     "data": {
      "image/png": "[encoded data removed]",
      "text/plain": [
       "<Figure size 432x288 with 1 Axes>"
      ]
     },
     "metadata": {
      "needs_background": "light"
     },
     "output_type": "display_data"
    }
   ],
   "source": [
    "barplot('Weight', clean_data_grouped)"
   ]
  },
  {
   "cell_type": "code",
   "execution_count": 47,
   "metadata": {},
   "outputs": [
    {
     "name": "stdout",
     "output_type": "stream",
     "text": [
      "<class 'pandas.core.frame.DataFrame'>\n",
      "RangeIndex: 684 entries, 0 to 683\n",
      "Data columns (total 7 columns):\n",
      "hero_names    684 non-null object\n",
      "Gender        642 non-null object\n",
      "Eye color     684 non-null object\n",
      "Race          684 non-null object\n",
      "Hair color    684 non-null object\n",
      "Publisher     647 non-null object\n",
      "Alignment     653 non-null object\n",
      "dtypes: object(7)\n",
      "memory usage: 37.5+ KB\n"
     ]
    }
   ],
   "source": [
    "clean_data.select_dtypes(include='O').info()"
   ]
  },
  {
   "cell_type": "code",
   "execution_count": 48,
   "metadata": {},
   "outputs": [
    {
     "name": "stdout",
     "output_type": "stream",
     "text": [
      "<class 'pandas.core.frame.DataFrame'>\n",
      "Int64Index: 684 entries, 0 to 517\n",
      "Data columns (total 7 columns):\n",
      "hero_names    684 non-null object\n",
      "Gender        642 non-null object\n",
      "Eye color     684 non-null object\n",
      "Race          684 non-null object\n",
      "Hair color    684 non-null object\n",
      "Publisher     647 non-null object\n",
      "Alignment     653 non-null object\n",
      "dtypes: object(7)\n",
      "memory usage: 62.8+ KB\n"
     ]
    }
   ],
   "source": [
    "clean_data_grouped.select_dtypes(include='O').info()"
   ]
  },
  {
   "cell_type": "code",
   "execution_count": 49,
   "metadata": {},
   "outputs": [
    {
     "data": {
      "text/plain": [
       "array([dtype('O'), dtype('float64'), dtype('bool')], dtype=object)"
      ]
     },
     "execution_count": 49,
     "metadata": {},
     "output_type": "execute_result"
    }
   ],
   "source": [
    "clean_data.dtypes.unique()"
   ]
  },
  {
   "cell_type": "code",
   "execution_count": 50,
   "metadata": {},
   "outputs": [
    {
     "data": {
      "text/plain": [
       "array([dtype('O'), dtype('float64'), dtype('int64'), dtype('bool')],\n",
       "      dtype=object)"
      ]
     },
     "execution_count": 50,
     "metadata": {},
     "output_type": "execute_result"
    }
   ],
   "source": [
    "clean_data_grouped.dtypes.unique()"
   ]
  },
  {
   "cell_type": "markdown",
   "metadata": {},
   "source": [
    "### Gender datasets"
   ]
  },
  {
   "cell_type": "code",
   "execution_count": 51,
   "metadata": {},
   "outputs": [
    {
     "name": "stdout",
     "output_type": "stream",
     "text": [
      "(684, 176)\n"
     ]
    },
    {
     "data": {
      "text/plain": [
       "(642, 176)"
      ]
     },
     "execution_count": 51,
     "metadata": {},
     "output_type": "execute_result"
    }
   ],
   "source": [
    "clean_data_gender = clean_data.copy()\n",
    "clean_data_grouped_gender = clean_data_grouped.copy()\n",
    "print(clean_data_gender.shape)\n",
    "clean_data_gender = clean_data_gender.dropna(subset=['Gender'])\n",
    "clean_data_gender.shape"
   ]
  },
  {
   "cell_type": "code",
   "execution_count": 52,
   "metadata": {},
   "outputs": [
    {
     "data": {
      "text/plain": [
       "(642, 176)"
      ]
     },
     "execution_count": 52,
     "metadata": {},
     "output_type": "execute_result"
    }
   ],
   "source": [
    "clean_data_grouped_gender = clean_data_grouped_gender.dropna(subset=['Gender'])\n",
    "clean_data_grouped_gender.shape"
   ]
  },
  {
   "cell_type": "code",
   "execution_count": 53,
   "metadata": {},
   "outputs": [],
   "source": [
    "clean_data['Gender'].fillna(clean_data['Gender'].mode()[0], inplace=True)\n",
    "clean_data_grouped['Gender'].fillna(clean_data_grouped['Gender'].mode()[0], inplace=True)"
   ]
  },
  {
   "cell_type": "markdown",
   "metadata": {},
   "source": [
    "### Publisher dataset"
   ]
  },
  {
   "cell_type": "code",
   "execution_count": 54,
   "metadata": {},
   "outputs": [
    {
     "name": "stdout",
     "output_type": "stream",
     "text": [
      "(684, 176)\n"
     ]
    },
    {
     "data": {
      "text/plain": [
       "(647, 176)"
      ]
     },
     "execution_count": 54,
     "metadata": {},
     "output_type": "execute_result"
    }
   ],
   "source": [
    "clean_data_publisher = clean_data.copy()\n",
    "clean_data_grouped_publisher = clean_data_grouped.copy()\n",
    "print(clean_data_publisher.shape)\n",
    "clean_data_publisher = clean_data_publisher.dropna(subset=['Publisher'])\n",
    "clean_data_publisher.shape"
   ]
  },
  {
   "cell_type": "code",
   "execution_count": 55,
   "metadata": {},
   "outputs": [
    {
     "data": {
      "text/plain": [
       "(647, 176)"
      ]
     },
     "execution_count": 55,
     "metadata": {},
     "output_type": "execute_result"
    }
   ],
   "source": [
    "clean_data_grouped_publisher = clean_data_grouped_publisher.dropna(subset=['Publisher'])\n",
    "clean_data_grouped_publisher.shape"
   ]
  },
  {
   "cell_type": "code",
   "execution_count": 56,
   "metadata": {},
   "outputs": [],
   "source": [
    "clean_data['Publisher'].fillna(clean_data['Publisher'].mode()[0], inplace=True)\n",
    "clean_data_grouped['Publisher'].fillna(clean_data_grouped['Publisher'].mode()[0], inplace=True)"
   ]
  },
  {
   "cell_type": "code",
   "execution_count": 57,
   "metadata": {},
   "outputs": [],
   "source": [
    "clean_data_gender['Publisher'].fillna(clean_data_gender['Publisher'].mode()[0], inplace=True)\n",
    "clean_data_grouped_gender['Publisher'].fillna(clean_data_grouped_gender['Publisher'].mode()[0], inplace=True)"
   ]
  },
  {
   "cell_type": "markdown",
   "metadata": {},
   "source": [
    "### Alignment dataset"
   ]
  },
  {
   "cell_type": "code",
   "execution_count": 58,
   "metadata": {},
   "outputs": [
    {
     "name": "stdout",
     "output_type": "stream",
     "text": [
      "(684, 176)\n"
     ]
    },
    {
     "data": {
      "text/plain": [
       "(653, 176)"
      ]
     },
     "execution_count": 58,
     "metadata": {},
     "output_type": "execute_result"
    }
   ],
   "source": [
    "clean_data_alignment = clean_data.copy()\n",
    "clean_data_grouped_alignment = clean_data_grouped.copy()\n",
    "print(clean_data_alignment.shape)\n",
    "clean_data_alignment = clean_data_alignment.dropna(subset=['Alignment'])\n",
    "clean_data_alignment.shape"
   ]
  },
  {
   "cell_type": "code",
   "execution_count": 59,
   "metadata": {},
   "outputs": [
    {
     "data": {
      "text/plain": [
       "(653, 176)"
      ]
     },
     "execution_count": 59,
     "metadata": {},
     "output_type": "execute_result"
    }
   ],
   "source": [
    "clean_data_grouped_alignment = clean_data_grouped_alignment.dropna(subset=['Alignment'])\n",
    "clean_data_grouped_alignment.shape"
   ]
  },
  {
   "cell_type": "code",
   "execution_count": 60,
   "metadata": {},
   "outputs": [],
   "source": [
    "clean_data['Alignment'].fillna(clean_data['Alignment'].mode()[0], inplace=True)\n",
    "clean_data_grouped['Alignment'].fillna(clean_data_grouped['Alignment'].mode()[0], inplace=True)"
   ]
  },
  {
   "cell_type": "code",
   "execution_count": 61,
   "metadata": {},
   "outputs": [],
   "source": [
    "clean_data_gender['Alignment'].fillna(clean_data_gender['Alignment'].mode()[0], inplace=True)\n",
    "clean_data_grouped_gender['Alignment'].fillna(clean_data_grouped_gender['Alignment'].mode()[0], inplace=True)\n",
    "clean_data_publisher['Alignment'].fillna(clean_data_publisher['Alignment'].mode()[0], inplace=True)\n",
    "clean_data_grouped_publisher['Alignment'].fillna(clean_data_grouped_publisher['Alignment'].mode()[0], inplace=True)"
   ]
  },
  {
   "cell_type": "code",
   "execution_count": 62,
   "metadata": {},
   "outputs": [
    {
     "name": "stdout",
     "output_type": "stream",
     "text": [
      "False\n",
      "False\n",
      "False\n",
      "False\n",
      "False\n",
      "False\n",
      "False\n",
      "False\n"
     ]
    }
   ],
   "source": [
    "print(clean_data.isnull().values.any())\n",
    "print(clean_data_grouped.isnull().values.any())\n",
    "print(clean_data_gender.isnull().values.any())\n",
    "print(clean_data_alignment.isnull().values.any())\n",
    "print(clean_data_publisher.isnull().values.any())\n",
    "print(clean_data_grouped_gender.isnull().values.any())\n",
    "print(clean_data_grouped_alignment.isnull().values.any())\n",
    "print(clean_data_grouped_publisher.isnull().values.any())"
   ]
  },
  {
   "cell_type": "markdown",
   "metadata": {},
   "source": [
    "### Lidando com dados categoricos"
   ]
  },
  {
   "cell_type": "code",
   "execution_count": 63,
   "metadata": {},
   "outputs": [],
   "source": [
    "def preprocessing(data):\n",
    "    data.drop(\"hero_names\", axis=1, inplace=True)\n",
    "    data = data.replace(['Male', 'Female'], [0,1])\n",
    "    data = pd.get_dummies(data)\n",
    "    return data"
   ]
  },
  {
   "cell_type": "code",
   "execution_count": 64,
   "metadata": {},
   "outputs": [
    {
     "name": "stdout",
     "output_type": "stream",
     "text": [
      "(684, 176)\n"
     ]
    },
    {
     "data": {
      "text/plain": [
       "(684, 287)"
      ]
     },
     "execution_count": 64,
     "metadata": {},
     "output_type": "execute_result"
    }
   ],
   "source": [
    "print(clean_data.shape)\n",
    "clean_data = preprocessing(clean_data)\n",
    "clean_data.shape"
   ]
  },
  {
   "cell_type": "code",
   "execution_count": 65,
   "metadata": {},
   "outputs": [
    {
     "name": "stdout",
     "output_type": "stream",
     "text": [
      "(684, 176)\n"
     ]
    },
    {
     "data": {
      "text/plain": [
       "(684, 198)"
      ]
     },
     "execution_count": 65,
     "metadata": {},
     "output_type": "execute_result"
    }
   ],
   "source": [
    "print(clean_data_grouped.shape)\n",
    "clean_data_grouped = preprocessing(clean_data_grouped)\n",
    "clean_data_grouped.shape"
   ]
  },
  {
   "cell_type": "code",
   "execution_count": 66,
   "metadata": {},
   "outputs": [],
   "source": [
    "def preprocessing_alignment_publisher(data, label_name):\n",
    "    data.drop(\"hero_names\", axis=1, inplace=True)\n",
    "    data = data.replace(['Male', 'Female'], [0,1])\n",
    "    label = data[label_name]\n",
    "    data = data.drop(label_name, axis=1)\n",
    "    data = pd.get_dummies(data)\n",
    "    data = pd.concat((data, label), axis=1)\n",
    "    return data"
   ]
  },
  {
   "cell_type": "code",
   "execution_count": 67,
   "metadata": {},
   "outputs": [
    {
     "name": "stdout",
     "output_type": "stream",
     "text": [
      "(653, 176)\n"
     ]
    },
    {
     "data": {
      "text/plain": [
       "(653, 285)"
      ]
     },
     "execution_count": 67,
     "metadata": {},
     "output_type": "execute_result"
    }
   ],
   "source": [
    "print(clean_data_alignment.shape)\n",
    "clean_data_alignment = preprocessing_alignment_publisher(clean_data_alignment, 'Alignment')\n",
    "clean_data_alignment.shape"
   ]
  },
  {
   "cell_type": "code",
   "execution_count": 68,
   "metadata": {},
   "outputs": [
    {
     "name": "stdout",
     "output_type": "stream",
     "text": [
      "(653, 176)\n"
     ]
    },
    {
     "data": {
      "text/plain": [
       "(653, 196)"
      ]
     },
     "execution_count": 68,
     "metadata": {},
     "output_type": "execute_result"
    }
   ],
   "source": [
    "print(clean_data_grouped_alignment.shape)\n",
    "clean_data_grouped_alignment = preprocessing_alignment_publisher(clean_data_grouped_alignment, 'Alignment')\n",
    "clean_data_grouped_alignment.shape"
   ]
  },
  {
   "cell_type": "code",
   "execution_count": 69,
   "metadata": {},
   "outputs": [
    {
     "name": "stdout",
     "output_type": "stream",
     "text": [
      "(647, 176)\n"
     ]
    },
    {
     "data": {
      "text/plain": [
       "(647, 280)"
      ]
     },
     "execution_count": 69,
     "metadata": {},
     "output_type": "execute_result"
    }
   ],
   "source": [
    "print(clean_data_publisher.shape)\n",
    "clean_data_publisher = preprocessing_alignment_publisher(clean_data_publisher, 'Publisher')\n",
    "clean_data_publisher.shape"
   ]
  },
  {
   "cell_type": "code",
   "execution_count": 70,
   "metadata": {},
   "outputs": [
    {
     "name": "stdout",
     "output_type": "stream",
     "text": [
      "Race_Kaiju\n",
      "Publisher_DC Comics\n",
      "Publisher_Dark Horse Comics\n",
      "Publisher_George Lucas\n",
      "Publisher_Image Comics\n",
      "Publisher_Marvel Comics\n",
      "Publisher_NBC - Heroes\n",
      "Publisher_outros\n"
     ]
    }
   ],
   "source": [
    "for col in clean_data.columns:\n",
    "    if col not in clean_data_publisher.columns:\n",
    "        print(col)"
   ]
  },
  {
   "cell_type": "code",
   "execution_count": 71,
   "metadata": {},
   "outputs": [
    {
     "name": "stdout",
     "output_type": "stream",
     "text": [
      "(647, 176)\n"
     ]
    },
    {
     "data": {
      "text/plain": [
       "(647, 192)"
      ]
     },
     "execution_count": 71,
     "metadata": {},
     "output_type": "execute_result"
    }
   ],
   "source": [
    "print(clean_data_grouped_publisher.shape)\n",
    "clean_data_grouped_publisher = preprocessing_alignment_publisher(clean_data_grouped_publisher, 'Publisher')\n",
    "clean_data_grouped_publisher.shape"
   ]
  },
  {
   "cell_type": "code",
   "execution_count": 72,
   "metadata": {},
   "outputs": [],
   "source": [
    "def preprocessing_gender(data):\n",
    "    data.drop(\"hero_names\", axis=1, inplace=True)\n",
    "    label = data[\"Gender\"]\n",
    "    data = data.drop('Gender', axis=1)\n",
    "    data = pd.get_dummies(data)\n",
    "    data = pd.concat((data, label), axis=1)\n",
    "    return data"
   ]
  },
  {
   "cell_type": "code",
   "execution_count": 73,
   "metadata": {},
   "outputs": [
    {
     "name": "stdout",
     "output_type": "stream",
     "text": [
      "(642, 176)\n"
     ]
    },
    {
     "data": {
      "text/plain": [
       "(642, 282)"
      ]
     },
     "execution_count": 73,
     "metadata": {},
     "output_type": "execute_result"
    }
   ],
   "source": [
    "print(clean_data_gender.shape)\n",
    "clean_data_gender = preprocessing_gender(clean_data_gender)\n",
    "clean_data_gender.shape"
   ]
  },
  {
   "cell_type": "code",
   "execution_count": 74,
   "metadata": {},
   "outputs": [
    {
     "name": "stdout",
     "output_type": "stream",
     "text": [
      "Race_Kaiju\n",
      "Race_Parademon\n",
      "Hair color_Brown / Black\n",
      "Hair color_Orange / White\n",
      "Hair color_Yellow\n"
     ]
    }
   ],
   "source": [
    "for col in clean_data.columns:\n",
    "    if col not in clean_data_gender.columns:\n",
    "        print(col)"
   ]
  },
  {
   "cell_type": "code",
   "execution_count": 75,
   "metadata": {},
   "outputs": [
    {
     "name": "stdout",
     "output_type": "stream",
     "text": [
      "(642, 176)\n"
     ]
    },
    {
     "data": {
      "text/plain": [
       "(642, 198)"
      ]
     },
     "execution_count": 75,
     "metadata": {},
     "output_type": "execute_result"
    }
   ],
   "source": [
    "print(clean_data_grouped_gender.shape)\n",
    "clean_data_grouped_gender = preprocessing_gender(clean_data_grouped_gender)\n",
    "clean_data_grouped_gender.shape"
   ]
  },
  {
   "cell_type": "code",
   "execution_count": 76,
   "metadata": {},
   "outputs": [],
   "source": [
    "clean_data.to_csv('data/clean_data.csv')\n",
    "clean_data_grouped.to_csv('data/clean_data_grouped.csv')\n",
    "clean_data_gender.to_csv('data/clean_data_gender.csv')\n",
    "clean_data_alignment.to_csv('data/clean_data_alignment.csv')\n",
    "clean_data_publisher.to_csv('data/clean_data_publisher.csv')\n",
    "clean_data_grouped_gender.to_csv('data/clean_data_grouped_gender.csv')\n",
    "clean_data_grouped_alignment.to_csv('data/clean_data_grouped_alignment.csv')\n",
    "clean_data_grouped_publisher.to_csv('data/clean_data_grouped_publisher.csv')"
   ]
  },
  {
   "cell_type": "code",
   "execution_count": null,
   "metadata": {},
   "outputs": [],
   "source": []
  }
 ],
 "metadata": {
  "kernelspec": {
   "display_name": "Python 3",
   "language": "python",
   "name": "python3"
  },
  "language_info": {
   "codemirror_mode": {
    "name": "ipython",
    "version": 3
   },
   "file_extension": ".py",
   "mimetype": "text/x-python",
   "name": "python",
   "nbconvert_exporter": "python",
   "pygments_lexer": "ipython3",
   "version": "3.7.3"
  }
 },
 "nbformat": 4,
 "nbformat_minor": 2
}
